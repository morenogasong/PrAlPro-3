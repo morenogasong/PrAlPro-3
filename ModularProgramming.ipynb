{
  "nbformat": 4,
  "nbformat_minor": 0,
  "metadata": {
    "colab": {
      "provenance": []
    },
    "kernelspec": {
      "name": "python3",
      "display_name": "Python 3"
    },
    "language_info": {
      "name": "python"
    }
  },
  "cells": [
    {
      "cell_type": "markdown",
      "source": [],
      "metadata": {
        "id": "vg-26b6zoPWB"
      }
    },
    {
      "cell_type": "markdown",
      "source": [
        "**Latihan 4.1** Buatlah sebuah fungsi yang dapat menentukan apakah ketiga parameter memenuhi semua ketentuan berikut ini:\n",
        "\n",
        "• Ketiga parameter tersebut nilainya berbeda semua.\n",
        "\n",
        "• Ada kemungkinan jika diambil dua parameter dan dijumlahkan hasilnya sama dengan parameter lainnya (yang tersisa).\n",
        "\n",
        "\n",
        "Fungsi tersebut akan menghasilkan nilai True jika semua ketentuan tersebut dipenuhi. Jika tidak terpenuhi maka fungsi akan menghasilkan nilai False. Fungsi anda harus diberi nama cek_angka().\n"
      ],
      "metadata": {
        "id": "jiw6s61QoP0z"
      }
    },
    {
      "cell_type": "code",
      "source": [
        "def cek_angka(a, b, c):\n",
        "    if a != b and a != c and b != c:\n",
        "        if a + b == c or a + c == b or b + c == a:\n",
        "            return True\n",
        "    return False\n",
        "\n",
        "pertama = int(input(\"Masukkan angka pertama : \"))\n",
        "kedua = int(input(\"Masukkan angka kedua : \"))\n",
        "ketiga = int(input(\"Masukkan angka ketiga : \"))\n",
        "\n",
        "hasil = cek_angka(pertama, kedua, ketiga)\n",
        "print (hasil)"
      ],
      "metadata": {
        "colab": {
          "base_uri": "https://localhost:8080/"
        },
        "id": "0tIPjB9RoWjR",
        "outputId": "d3d2aaf0-e820-4ba1-b89c-587307f9b06a"
      },
      "execution_count": 1,
      "outputs": [
        {
          "output_type": "stream",
          "name": "stdout",
          "text": [
            "Masukkan angka pertama : 9\n",
            "Masukkan angka kedua : 20\n",
            "Masukkan angka ketiga : 11\n",
            "True\n"
          ]
        }
      ]
    },
    {
      "cell_type": "markdown",
      "source": [
        "**Latihan 4.2** Buatlah sebuah fungsi yang dapat menentukan apakah minimal dua dari tiga parameter yang diberikan memiliki digit paling kanan yang sama. Fungsi tersebut menghasilkan nilai True jika memenuhi dan False jika tidak memenuhi. Gunakan fungsi tersebut untuk mengecek beberapa test-case berikut ini:\n",
        "\n",
        "• Input = 30, 20, 18. Output yang diharapkan = True\n",
        "\n",
        "• Input = 145, 5, 100. Output yang diharapkan = True\n",
        "\n",
        "• Input = 71, 187, 18. Output yang diharapkan = False\n",
        "\n",
        "• Input = 1024, 14, 94. Output yang diharapkan = True\n",
        "\n",
        "• Input = 53, 8900, 658. Output yang diharapkan = False\n",
        "\n",
        "Ketiga bilangan tersebut diinputkan oleh pengguna, sehingga anda perlu membaca input dari pengguna. Fungsi anda harus diberi nama cek_digit_belakang().\n"
      ],
      "metadata": {
        "id": "mMRv20lVosBn"
      }
    },
    {
      "cell_type": "code",
      "source": [
        "def cek_digit_belakang(a, b, c):\n",
        "    angka_terakhir_a = a % 10\n",
        "    angka_terakhir_b = b % 10\n",
        "    angka_terakhir_c = c % 10\n",
        "\n",
        "    if (angka_terakhir_a == angka_terakhir_b) or (angka_terakhir_a == angka_terakhir_c) or (angka_terakhir_b == angka_terakhir_c):\n",
        "        return True\n",
        "    else:\n",
        "        return False\n",
        "\n",
        "pertama = int(input(\"Masukkan bilangan pertama: \"))\n",
        "kedua = int(input(\"Masukkan bilangan kedua: \"))\n",
        "ketiga = int(input(\"Masukkan bilangan ketiga: \"))\n",
        "\n",
        "hasilnya = cek_digit_belakang(pertama, kedua, ketiga)\n",
        "print (hasilnya)"
      ],
      "metadata": {
        "colab": {
          "base_uri": "https://localhost:8080/"
        },
        "id": "cpshPgBjo056",
        "outputId": "5184cc66-67a4-43d0-b7ee-a28ab1df6a0d"
      },
      "execution_count": 2,
      "outputs": [
        {
          "output_type": "stream",
          "name": "stdout",
          "text": [
            "Masukkan bilangan pertama: 1024\n",
            "Masukkan bilangan kedua: 14\n",
            "Masukkan bilangan ketiga: 94\n",
            "True\n"
          ]
        }
      ]
    },
    {
      "cell_type": "markdown",
      "source": [
        "Latihan 4.3 Buatlah fungsi-fungsi konversi suhu menggunakan lambda function. Fungsi-fungsi yang harus anda implementasikan:\n",
        "\n",
        "• Celcius to Fahrenheit. F = (9/5) ∗C +32\n",
        "\n",
        "• Celcius to Reamur. R = 0.8 ∗C\n",
        "\n",
        "Berikan contoh penggunaannya untuk test-case berikut ini:\n",
        "\n",
        "• Input C = 100. Output F = 212.\n",
        "\n",
        "• Input C = 80. Output R = 64.\n",
        "\n",
        "• Input = 0. Output F = 32\n"
      ],
      "metadata": {
        "id": "ZTAcmUXLpA2W"
      }
    },
    {
      "cell_type": "code",
      "source": [
        "celcius_ke_fahrenheit = lambda c: (9/5) * c + 32\n",
        "celcius_ke_reamur = lambda c: 0.8 * c\n",
        "\n",
        "print(celcius_ke_fahrenheit(100))\n",
        "print(celcius_ke_reamur(80))\n",
        "print(celcius_ke_fahrenheit(0))"
      ],
      "metadata": {
        "colab": {
          "base_uri": "https://localhost:8080/"
        },
        "id": "FSYQE3dvpDz_",
        "outputId": "fd32516f-beea-4cd9-c9a9-45a29c94fb22"
      },
      "execution_count": 3,
      "outputs": [
        {
          "output_type": "stream",
          "name": "stdout",
          "text": [
            "212.0\n",
            "64.0\n",
            "32.0\n"
          ]
        }
      ]
    }
  ]
}